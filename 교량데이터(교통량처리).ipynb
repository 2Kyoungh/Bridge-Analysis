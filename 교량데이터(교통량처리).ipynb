{
 "cells": [
  {
   "cell_type": "code",
   "execution_count": 57,
   "id": "371fe6ce-218a-4e59-a1c2-ba6b21600cca",
   "metadata": {},
   "outputs": [
    {
     "name": "stdout",
     "output_type": "stream",
     "text": [
      "C:\\Users\\ajtwl\\Documents\\GitHub\\Bridge-Analysis\\Data\n"
     ]
    }
   ],
   "source": [
    "%cd C:/Users/ajtwl/Documents/GitHub/Bridge-Analysis/Data"
   ]
  },
  {
   "cell_type": "code",
   "execution_count": 21,
   "id": "dcec86ee-3230-486e-afff-2e94028ed904",
   "metadata": {},
   "outputs": [],
   "source": [
    "import pandas as pd\n",
    "import numpy as np"
   ]
  },
  {
   "cell_type": "code",
   "execution_count": 22,
   "id": "d77806ed-233d-4c59-85c4-f509a6b27730",
   "metadata": {},
   "outputs": [],
   "source": [
    "csvFile = \"C:/Users/ajtwl/Documents/GitHub/Bridge-Analysis/Data/KOR_bridge1.csv\""
   ]
  },
  {
   "cell_type": "markdown",
   "id": "83130683-f5fc-453d-88e0-596085dbf80e",
   "metadata": {},
   "source": [
    "## 교량 가공 1차 데이터"
   ]
  },
  {
   "cell_type": "code",
   "execution_count": 23,
   "id": "9e472e94-60fb-43b6-bf64-00d441feaf55",
   "metadata": {},
   "outputs": [
    {
     "data": {
      "text/html": [
       "<div>\n",
       "<style scoped>\n",
       "    .dataframe tbody tr th:only-of-type {\n",
       "        vertical-align: middle;\n",
       "    }\n",
       "\n",
       "    .dataframe tbody tr th {\n",
       "        vertical-align: top;\n",
       "    }\n",
       "\n",
       "    .dataframe thead th {\n",
       "        text-align: right;\n",
       "    }\n",
       "</style>\n",
       "<table border=\"1\" class=\"dataframe\">\n",
       "  <thead>\n",
       "    <tr style=\"text-align: right;\">\n",
       "      <th></th>\n",
       "      <th>교량명</th>\n",
       "      <th>시설물종별등급구분</th>\n",
       "      <th>시도명</th>\n",
       "      <th>시군구명</th>\n",
       "      <th>교량연장</th>\n",
       "      <th>교량폭</th>\n",
       "      <th>차로수</th>\n",
       "      <th>상부구조형식</th>\n",
       "      <th>최종안전점검결과</th>\n",
       "      <th>설계활하중</th>\n",
       "      <th>준공후경과년수</th>\n",
       "      <th>경간수</th>\n",
       "      <th>최대경간장</th>\n",
       "      <th>교통량</th>\n",
       "    </tr>\n",
       "  </thead>\n",
       "  <tbody>\n",
       "    <tr>\n",
       "      <th>0</th>\n",
       "      <td>진위교</td>\n",
       "      <td>2</td>\n",
       "      <td>경기도</td>\n",
       "      <td>평택시</td>\n",
       "      <td>125.0</td>\n",
       "      <td>21.0</td>\n",
       "      <td>4</td>\n",
       "      <td>PSCI거더교</td>\n",
       "      <td>B</td>\n",
       "      <td>DB-24</td>\n",
       "      <td>37</td>\n",
       "      <td>5</td>\n",
       "      <td>25.0</td>\n",
       "      <td>21443.0</td>\n",
       "    </tr>\n",
       "    <tr>\n",
       "      <th>1</th>\n",
       "      <td>풍계교</td>\n",
       "      <td>3</td>\n",
       "      <td>경기도</td>\n",
       "      <td>이천시</td>\n",
       "      <td>55.0</td>\n",
       "      <td>20.0</td>\n",
       "      <td>2</td>\n",
       "      <td>RC슬래브교</td>\n",
       "      <td>B</td>\n",
       "      <td>DB-24</td>\n",
       "      <td>27</td>\n",
       "      <td>4</td>\n",
       "      <td>15.0</td>\n",
       "      <td>5654.0</td>\n",
       "    </tr>\n",
       "    <tr>\n",
       "      <th>2</th>\n",
       "      <td>태평교</td>\n",
       "      <td>3</td>\n",
       "      <td>경기도</td>\n",
       "      <td>여주시</td>\n",
       "      <td>43.8</td>\n",
       "      <td>19.5</td>\n",
       "      <td>4</td>\n",
       "      <td>PSCI거더교</td>\n",
       "      <td>B</td>\n",
       "      <td>DB-24</td>\n",
       "      <td>32</td>\n",
       "      <td>2</td>\n",
       "      <td>21.9</td>\n",
       "      <td>8750.0</td>\n",
       "    </tr>\n",
       "    <tr>\n",
       "      <th>3</th>\n",
       "      <td>장평교</td>\n",
       "      <td>2</td>\n",
       "      <td>경기도</td>\n",
       "      <td>이천시</td>\n",
       "      <td>105.0</td>\n",
       "      <td>19.5</td>\n",
       "      <td>4</td>\n",
       "      <td>RC슬래브교</td>\n",
       "      <td>B</td>\n",
       "      <td>DB-24</td>\n",
       "      <td>30</td>\n",
       "      <td>7</td>\n",
       "      <td>15.0</td>\n",
       "      <td>14150.0</td>\n",
       "    </tr>\n",
       "    <tr>\n",
       "      <th>4</th>\n",
       "      <td>덕평교</td>\n",
       "      <td>3</td>\n",
       "      <td>경기도</td>\n",
       "      <td>여주시</td>\n",
       "      <td>32.0</td>\n",
       "      <td>10.0</td>\n",
       "      <td>2</td>\n",
       "      <td>RC슬래브교</td>\n",
       "      <td>B</td>\n",
       "      <td>DB-24</td>\n",
       "      <td>27</td>\n",
       "      <td>2</td>\n",
       "      <td>16.0</td>\n",
       "      <td>3739.0</td>\n",
       "    </tr>\n",
       "  </tbody>\n",
       "</table>\n",
       "</div>"
      ],
      "text/plain": [
       "   교량명 시설물종별등급구분  시도명 시군구명   교량연장   교량폭  차로수   상부구조형식 최종안전점검결과  설계활하중  \\\n",
       "0  진위교         2  경기도  평택시  125.0  21.0    4  PSCI거더교        B  DB-24   \n",
       "1  풍계교         3  경기도  이천시   55.0  20.0    2   RC슬래브교        B  DB-24   \n",
       "2  태평교         3  경기도  여주시   43.8  19.5    4  PSCI거더교        B  DB-24   \n",
       "3  장평교         2  경기도  이천시  105.0  19.5    4   RC슬래브교        B  DB-24   \n",
       "4  덕평교         3  경기도  여주시   32.0  10.0    2   RC슬래브교        B  DB-24   \n",
       "\n",
       "   준공후경과년수  경간수  최대경간장      교통량  \n",
       "0       37    5   25.0  21443.0  \n",
       "1       27    4   15.0   5654.0  \n",
       "2       32    2   21.9   8750.0  \n",
       "3       30    7   15.0  14150.0  \n",
       "4       27    2   16.0   3739.0  "
      ]
     },
     "execution_count": 23,
     "metadata": {},
     "output_type": "execute_result"
    }
   ],
   "source": [
    "df1 = pd.read_csv(csvFile)\n",
    "df1.head()"
   ]
  },
  {
   "cell_type": "markdown",
   "id": "c4098904-9e34-4671-9397-37ab4ce42f56",
   "metadata": {},
   "source": [
    "### 교통량 부분의 결측치 존재확인"
   ]
  },
  {
   "cell_type": "code",
   "execution_count": 24,
   "id": "d580273d-f91f-4993-a67e-5e56e8bbc93c",
   "metadata": {},
   "outputs": [
    {
     "name": "stdout",
     "output_type": "stream",
     "text": [
      "<class 'pandas.core.frame.DataFrame'>\n",
      "RangeIndex: 5680 entries, 0 to 5679\n",
      "Data columns (total 14 columns):\n",
      " #   Column     Non-Null Count  Dtype  \n",
      "---  ------     --------------  -----  \n",
      " 0   교량명        5680 non-null   object \n",
      " 1   시설물종별등급구분  5680 non-null   object \n",
      " 2   시도명        5680 non-null   object \n",
      " 3   시군구명       5680 non-null   object \n",
      " 4   교량연장       5680 non-null   float64\n",
      " 5   교량폭        5680 non-null   float64\n",
      " 6   차로수        5680 non-null   int64  \n",
      " 7   상부구조형식     5680 non-null   object \n",
      " 8   최종안전점검결과   5680 non-null   object \n",
      " 9   설계활하중      5680 non-null   object \n",
      " 10  준공후경과년수    5680 non-null   int64  \n",
      " 11  경간수        5680 non-null   int64  \n",
      " 12  최대경간장      5680 non-null   float64\n",
      " 13  교통량        4451 non-null   float64\n",
      "dtypes: float64(4), int64(3), object(7)\n",
      "memory usage: 621.4+ KB\n"
     ]
    }
   ],
   "source": [
    "df1.info()"
   ]
  },
  {
   "cell_type": "markdown",
   "id": "120ec7dc-6301-4d0a-acd3-7d0f46e0b58b",
   "metadata": {},
   "source": [
    "### 세부 확인 절차\n",
    "교통량 결측 발생이유 : 교량데이터 생성시 컬럼에 해당하는 교량연장, 상부구조형식, 준공후경과년수 등 데이터 확보 위해 2가지 데이터 결합"
   ]
  },
  {
   "cell_type": "code",
   "execution_count": 25,
   "id": "cd18a2c6-088e-4fde-b43f-7f504eefa19c",
   "metadata": {},
   "outputs": [
    {
     "data": {
      "text/plain": [
       "1229"
      ]
     },
     "execution_count": 25,
     "metadata": {},
     "output_type": "execute_result"
    }
   ],
   "source": [
    "df1['교통량'].isna().sum()"
   ]
  },
  {
   "cell_type": "code",
   "execution_count": 26,
   "id": "301110fb-ea90-4ba5-aa79-bebb6579fe01",
   "metadata": {},
   "outputs": [
    {
     "data": {
      "text/plain": [
       "92"
      ]
     },
     "execution_count": 26,
     "metadata": {},
     "output_type": "execute_result"
    }
   ],
   "source": [
    "df1['교통량'].isin([0]).sum()"
   ]
  },
  {
   "cell_type": "code",
   "execution_count": 27,
   "id": "71e286f0-ac22-4554-a8d5-bb8daec280bd",
   "metadata": {},
   "outputs": [],
   "source": [
    "df1= df1.rename(columns={'시도명': '시도','시군구명':'시군구'})"
   ]
  },
  {
   "cell_type": "markdown",
   "id": "94175e35-7e4e-4056-b7ff-1636e50e079d",
   "metadata": {},
   "source": [
    "## 서울 구별 교통량 추정치 사용하여 결측치 처리\n",
    "### 결측치 처리 방법\n",
    "2022 서울특별시 교통량 조사자료(서울특별시, 서울시설공단) 평균값 참조\n",
    "조사기관 : 서울특별시 미래첨단교통과"
   ]
  },
  {
   "cell_type": "code",
   "execution_count": 28,
   "id": "5193ae09-2e0a-4a6c-a3ed-75762cd2119c",
   "metadata": {},
   "outputs": [
    {
     "name": "stdout",
     "output_type": "stream",
     "text": [
      "Empty DataFrame\n",
      "Columns: [교량명, 시설물종별등급구분, 시도, 시군구, 교량연장, 교량폭, 차로수, 상부구조형식, 최종안전점검결과, 설계활하중, 준공후경과년수, 경간수, 최대경간장, 교통량]\n",
      "Index: []\n",
      "Empty DataFrame\n",
      "Columns: [교량명, 시설물종별등급구분, 시도, 시군구, 교량연장, 교량폭, 차로수, 상부구조형식, 최종안전점검결과, 설계활하중, 준공후경과년수, 경간수, 최대경간장, 교통량]\n",
      "Index: []\n"
     ]
    }
   ],
   "source": [
    "# 동작구\n",
    "df1['교통량']= np.where((df1['교통량'].isna()) & (df1['시군구']=='동작구'), 35000 , df1['교통량'])\n",
    "df1['교통량']= np.where((df1['교통량']==0) & (df1['시군구']=='동작구'), 35000 , df1['교통량'])\n",
    "print(df1.loc[(df1['교통량'].isna()) & (df1['시군구']=='동작구')])\n",
    "print(df1.loc[(df1['교통량']==0) & (df1['시군구']=='동작구')])"
   ]
  },
  {
   "cell_type": "code",
   "execution_count": 29,
   "id": "8ccaf181-4963-428a-96fd-f221382c3275",
   "metadata": {},
   "outputs": [
    {
     "name": "stdout",
     "output_type": "stream",
     "text": [
      "Empty DataFrame\n",
      "Columns: [교량명, 시설물종별등급구분, 시도, 시군구, 교량연장, 교량폭, 차로수, 상부구조형식, 최종안전점검결과, 설계활하중, 준공후경과년수, 경간수, 최대경간장, 교통량]\n",
      "Index: []\n",
      "Empty DataFrame\n",
      "Columns: [교량명, 시설물종별등급구분, 시도, 시군구, 교량연장, 교량폭, 차로수, 상부구조형식, 최종안전점검결과, 설계활하중, 준공후경과년수, 경간수, 최대경간장, 교통량]\n",
      "Index: []\n"
     ]
    }
   ],
   "source": [
    "# 성북구\n",
    "df1['교통량']= np.where((df1['교통량'].isna()) & (df1['시군구']=='성북구'), 27000 , df1['교통량'])\n",
    "df1['교통량']= np.where((df1['교통량']==0) & (df1['시군구']=='성북구'), 27000 , df1['교통량'])\n",
    "print(df1.loc[(df1['교통량'].isna()) & (df1['시군구']=='성북구')])\n",
    "print(df1.loc[(df1['교통량']==0) & (df1['시군구']=='성북구')])"
   ]
  },
  {
   "cell_type": "code",
   "execution_count": 30,
   "id": "9f8eef49-2266-4ae4-aa5a-0ec6d493977a",
   "metadata": {},
   "outputs": [
    {
     "name": "stdout",
     "output_type": "stream",
     "text": [
      "Empty DataFrame\n",
      "Columns: [교량명, 시설물종별등급구분, 시도, 시군구, 교량연장, 교량폭, 차로수, 상부구조형식, 최종안전점검결과, 설계활하중, 준공후경과년수, 경간수, 최대경간장, 교통량]\n",
      "Index: []\n",
      "Empty DataFrame\n",
      "Columns: [교량명, 시설물종별등급구분, 시도, 시군구, 교량연장, 교량폭, 차로수, 상부구조형식, 최종안전점검결과, 설계활하중, 준공후경과년수, 경간수, 최대경간장, 교통량]\n",
      "Index: []\n"
     ]
    }
   ],
   "source": [
    "# 양천구\n",
    "df1['교통량']= np.where((df1['교통량'].isna()) & (df1['시군구']=='양천구'), 35000 , df1['교통량'])\n",
    "df1['교통량']= np.where((df1['교통량']==0) & (df1['시군구']=='양천구'), 35000 , df1['교통량'])\n",
    "print(df1.loc[(df1['교통량'].isna()) & (df1['시군구']=='양천구')])\n",
    "print(df1.loc[(df1['교통량']==0) & (df1['시군구']=='양천구')])"
   ]
  },
  {
   "cell_type": "code",
   "execution_count": 31,
   "id": "67af4bba-0165-4e83-8b4a-30487d88e793",
   "metadata": {},
   "outputs": [
    {
     "name": "stdout",
     "output_type": "stream",
     "text": [
      "Empty DataFrame\n",
      "Columns: [교량명, 시설물종별등급구분, 시도, 시군구, 교량연장, 교량폭, 차로수, 상부구조형식, 최종안전점검결과, 설계활하중, 준공후경과년수, 경간수, 최대경간장, 교통량]\n",
      "Index: []\n",
      "Empty DataFrame\n",
      "Columns: [교량명, 시설물종별등급구분, 시도, 시군구, 교량연장, 교량폭, 차로수, 상부구조형식, 최종안전점검결과, 설계활하중, 준공후경과년수, 경간수, 최대경간장, 교통량]\n",
      "Index: []\n"
     ]
    }
   ],
   "source": [
    "# 강북구\n",
    "df1['교통량']= np.where((df1['교통량'].isna()) & (df1['시군구']=='강북구'), 21000 , df1['교통량'])\n",
    "df1['교통량']= np.where((df1['교통량']==0) & (df1['시군구']=='강북구'), 21000 , df1['교통량'])\n",
    "print(df1.loc[(df1['교통량'].isna()) & (df1['시군구']=='강북구')])\n",
    "print(df1.loc[(df1['교통량']==0) & (df1['시군구']=='강북구')])"
   ]
  },
  {
   "cell_type": "code",
   "execution_count": 32,
   "id": "89b97a6c-5528-44d3-875a-93752f111409",
   "metadata": {},
   "outputs": [
    {
     "name": "stdout",
     "output_type": "stream",
     "text": [
      "Empty DataFrame\n",
      "Columns: [교량명, 시설물종별등급구분, 시도, 시군구, 교량연장, 교량폭, 차로수, 상부구조형식, 최종안전점검결과, 설계활하중, 준공후경과년수, 경간수, 최대경간장, 교통량]\n",
      "Index: []\n",
      "Empty DataFrame\n",
      "Columns: [교량명, 시설물종별등급구분, 시도, 시군구, 교량연장, 교량폭, 차로수, 상부구조형식, 최종안전점검결과, 설계활하중, 준공후경과년수, 경간수, 최대경간장, 교통량]\n",
      "Index: []\n"
     ]
    }
   ],
   "source": [
    "# 관악구\n",
    "df1['교통량']= np.where((df1['교통량'].isna()) & (df1['시군구']=='관악구'), 39000 , df1['교통량'])\n",
    "df1['교통량']= np.where((df1['교통량']==0) & (df1['시군구']=='관악구'), 39000 , df1['교통량'])\n",
    "print(df1.loc[(df1['교통량'].isna()) & (df1['시군구']=='관악구')])\n",
    "print(df1.loc[(df1['교통량']==0) & (df1['시군구']=='관악구')])"
   ]
  },
  {
   "cell_type": "code",
   "execution_count": 33,
   "id": "450ef587-c84a-4250-bcca-ce561c20573e",
   "metadata": {},
   "outputs": [
    {
     "name": "stdout",
     "output_type": "stream",
     "text": [
      "Empty DataFrame\n",
      "Columns: [교량명, 시설물종별등급구분, 시도, 시군구, 교량연장, 교량폭, 차로수, 상부구조형식, 최종안전점검결과, 설계활하중, 준공후경과년수, 경간수, 최대경간장, 교통량]\n",
      "Index: []\n",
      "Empty DataFrame\n",
      "Columns: [교량명, 시설물종별등급구분, 시도, 시군구, 교량연장, 교량폭, 차로수, 상부구조형식, 최종안전점검결과, 설계활하중, 준공후경과년수, 경간수, 최대경간장, 교통량]\n",
      "Index: []\n"
     ]
    }
   ],
   "source": [
    "# 구로구\n",
    "df1['교통량']= np.where((df1['교통량'].isna()) & (df1['시군구']=='구로구'), 24000 , df1['교통량'])\n",
    "df1['교통량']= np.where((df1['교통량']==0) & (df1['시군구']=='구로구'), 24000 , df1['교통량'])\n",
    "print(df1.loc[(df1['교통량'].isna()) & (df1['시군구']=='구로구')])\n",
    "print(df1.loc[(df1['교통량']==0) & (df1['시군구']=='구로구')])"
   ]
  },
  {
   "cell_type": "code",
   "execution_count": 34,
   "id": "7c26d6ba-59fe-4345-9b1a-fabecb072f5e",
   "metadata": {},
   "outputs": [
    {
     "name": "stdout",
     "output_type": "stream",
     "text": [
      "Empty DataFrame\n",
      "Columns: [교량명, 시설물종별등급구분, 시도, 시군구, 교량연장, 교량폭, 차로수, 상부구조형식, 최종안전점검결과, 설계활하중, 준공후경과년수, 경간수, 최대경간장, 교통량]\n",
      "Index: []\n",
      "Empty DataFrame\n",
      "Columns: [교량명, 시설물종별등급구분, 시도, 시군구, 교량연장, 교량폭, 차로수, 상부구조형식, 최종안전점검결과, 설계활하중, 준공후경과년수, 경간수, 최대경간장, 교통량]\n",
      "Index: []\n"
     ]
    }
   ],
   "source": [
    "# 도봉구\n",
    "df1['교통량']= np.where((df1['교통량'].isna()) & (df1['시군구']=='도봉구'), 21000 , df1['교통량'])\n",
    "df1['교통량']= np.where((df1['교통량']==0) & (df1['시군구']=='도봉구'), 21000 , df1['교통량'])\n",
    "print(df1.loc[(df1['교통량'].isna()) & (df1['시군구']=='도봉구')])\n",
    "print(df1.loc[(df1['교통량']==0) & (df1['시군구']=='도봉구')])"
   ]
  },
  {
   "cell_type": "code",
   "execution_count": 35,
   "id": "aacf1492-9ce3-4e1f-b0d2-e61a15551d29",
   "metadata": {},
   "outputs": [
    {
     "name": "stdout",
     "output_type": "stream",
     "text": [
      "Empty DataFrame\n",
      "Columns: [교량명, 시설물종별등급구분, 시도, 시군구, 교량연장, 교량폭, 차로수, 상부구조형식, 최종안전점검결과, 설계활하중, 준공후경과년수, 경간수, 최대경간장, 교통량]\n",
      "Index: []\n",
      "Empty DataFrame\n",
      "Columns: [교량명, 시설물종별등급구분, 시도, 시군구, 교량연장, 교량폭, 차로수, 상부구조형식, 최종안전점검결과, 설계활하중, 준공후경과년수, 경간수, 최대경간장, 교통량]\n",
      "Index: []\n"
     ]
    }
   ],
   "source": [
    "# 서대문구\n",
    "df1['교통량']= np.where((df1['교통량'].isna()) & (df1['시군구']=='서대문구'), 40000 , df1['교통량'])\n",
    "df1['교통량']= np.where((df1['교통량']==0) & (df1['시군구']=='서대문구'), 40000 , df1['교통량'])\n",
    "print(df1.loc[(df1['교통량'].isna()) & (df1['시군구']=='서대문구')])\n",
    "print(df1.loc[(df1['교통량']==0) & (df1['시군구']=='서대문구')])"
   ]
  },
  {
   "cell_type": "code",
   "execution_count": 36,
   "id": "3db85c91-ed77-420d-864d-395508a1cf0c",
   "metadata": {},
   "outputs": [
    {
     "name": "stdout",
     "output_type": "stream",
     "text": [
      "Empty DataFrame\n",
      "Columns: [교량명, 시설물종별등급구분, 시도, 시군구, 교량연장, 교량폭, 차로수, 상부구조형식, 최종안전점검결과, 설계활하중, 준공후경과년수, 경간수, 최대경간장, 교통량]\n",
      "Index: []\n",
      "Empty DataFrame\n",
      "Columns: [교량명, 시설물종별등급구분, 시도, 시군구, 교량연장, 교량폭, 차로수, 상부구조형식, 최종안전점검결과, 설계활하중, 준공후경과년수, 경간수, 최대경간장, 교통량]\n",
      "Index: []\n"
     ]
    }
   ],
   "source": [
    "# 은평구\n",
    "df1['교통량']= np.where((df1['교통량'].isna()) & (df1['시군구']=='은평구'), 32000 , df1['교통량'])\n",
    "df1['교통량']= np.where((df1['교통량']==0) & (df1['시군구']=='은평구'), 32000 , df1['교통량'])\n",
    "print(df1.loc[(df1['교통량'].isna()) & (df1['시군구']=='은평구')])\n",
    "print(df1.loc[(df1['교통량']==0) & (df1['시군구']=='은평구')])"
   ]
  },
  {
   "cell_type": "code",
   "execution_count": 37,
   "id": "823ed865-be33-48ec-a2c9-48d6aa133910",
   "metadata": {},
   "outputs": [
    {
     "name": "stdout",
     "output_type": "stream",
     "text": [
      "Empty DataFrame\n",
      "Columns: [교량명, 시설물종별등급구분, 시도, 시군구, 교량연장, 교량폭, 차로수, 상부구조형식, 최종안전점검결과, 설계활하중, 준공후경과년수, 경간수, 최대경간장, 교통량]\n",
      "Index: []\n",
      "Empty DataFrame\n",
      "Columns: [교량명, 시설물종별등급구분, 시도, 시군구, 교량연장, 교량폭, 차로수, 상부구조형식, 최종안전점검결과, 설계활하중, 준공후경과년수, 경간수, 최대경간장, 교통량]\n",
      "Index: []\n"
     ]
    }
   ],
   "source": [
    "# 종로구\n",
    "df1['교통량']= np.where((df1['교통량'].isna()) & (df1['시군구']=='종로구'), 24000 , df1['교통량'])\n",
    "df1['교통량']= np.where((df1['교통량']==0) & (df1['시군구']=='종로구'), 24000 , df1['교통량'])\n",
    "print(df1.loc[(df1['교통량'].isna()) & (df1['시군구']=='종로구')])\n",
    "print(df1.loc[(df1['교통량']==0) & (df1['시군구']=='종로구')])"
   ]
  },
  {
   "cell_type": "code",
   "execution_count": 38,
   "id": "dc016039-9230-4803-bfca-ea1712ed1644",
   "metadata": {},
   "outputs": [
    {
     "name": "stdout",
     "output_type": "stream",
     "text": [
      "Empty DataFrame\n",
      "Columns: [교량명, 시설물종별등급구분, 시도, 시군구, 교량연장, 교량폭, 차로수, 상부구조형식, 최종안전점검결과, 설계활하중, 준공후경과년수, 경간수, 최대경간장, 교통량]\n",
      "Index: []\n",
      "Empty DataFrame\n",
      "Columns: [교량명, 시설물종별등급구분, 시도, 시군구, 교량연장, 교량폭, 차로수, 상부구조형식, 최종안전점검결과, 설계활하중, 준공후경과년수, 경간수, 최대경간장, 교통량]\n",
      "Index: []\n"
     ]
    }
   ],
   "source": [
    "# 중구\n",
    "df1['교통량']= np.where((df1['교통량'].isna()) & (df1['시군구']=='중구'), 42000 , df1['교통량'])\n",
    "df1['교통량']= np.where((df1['교통량']==0) & (df1['시군구']=='중구'), 42000 , df1['교통량'])\n",
    "print(df1.loc[(df1['교통량'].isna()) & (df1['시군구']=='중구')])\n",
    "print(df1.loc[(df1['교통량']==0) & (df1['시군구']=='중구')])"
   ]
  },
  {
   "cell_type": "code",
   "execution_count": 39,
   "id": "1d345cb4-7418-4681-b855-c591d0c418e5",
   "metadata": {},
   "outputs": [
    {
     "name": "stdout",
     "output_type": "stream",
     "text": [
      "Empty DataFrame\n",
      "Columns: [교량명, 시설물종별등급구분, 시도, 시군구, 교량연장, 교량폭, 차로수, 상부구조형식, 최종안전점검결과, 설계활하중, 준공후경과년수, 경간수, 최대경간장, 교통량]\n",
      "Index: []\n",
      "Empty DataFrame\n",
      "Columns: [교량명, 시설물종별등급구분, 시도, 시군구, 교량연장, 교량폭, 차로수, 상부구조형식, 최종안전점검결과, 설계활하중, 준공후경과년수, 경간수, 최대경간장, 교통량]\n",
      "Index: []\n"
     ]
    }
   ],
   "source": [
    "# 강서구\n",
    "df1['교통량']= np.where((df1['교통량'].isna()) & (df1['시군구']=='강서구'), 30000 , df1['교통량'])\n",
    "df1['교통량']= np.where((df1['교통량']==0) & (df1['시군구']=='강서구'), 30000 , df1['교통량'])\n",
    "print(df1.loc[(df1['교통량'].isna()) & (df1['시군구']=='강서구')])\n",
    "print(df1.loc[(df1['교통량']==0) & (df1['시군구']=='강서구')])"
   ]
  },
  {
   "cell_type": "code",
   "execution_count": 40,
   "id": "51275461-6277-4dda-af59-6588ce205b4e",
   "metadata": {},
   "outputs": [
    {
     "name": "stdout",
     "output_type": "stream",
     "text": [
      "Empty DataFrame\n",
      "Columns: [교량명, 시설물종별등급구분, 시도, 시군구, 교량연장, 교량폭, 차로수, 상부구조형식, 최종안전점검결과, 설계활하중, 준공후경과년수, 경간수, 최대경간장, 교통량]\n",
      "Index: []\n",
      "Empty DataFrame\n",
      "Columns: [교량명, 시설물종별등급구분, 시도, 시군구, 교량연장, 교량폭, 차로수, 상부구조형식, 최종안전점검결과, 설계활하중, 준공후경과년수, 경간수, 최대경간장, 교통량]\n",
      "Index: []\n"
     ]
    }
   ],
   "source": [
    "# 서초구\n",
    "df1['교통량']= np.where((df1['교통량'].isna()) & (df1['시군구']=='서초구'), 29000 , df1['교통량'])\n",
    "df1['교통량']= np.where((df1['교통량']==0) & (df1['시군구']=='서초구'), 29000 , df1['교통량'])\n",
    "print(df1.loc[(df1['교통량'].isna()) & (df1['시군구']=='서초구')])\n",
    "print(df1.loc[(df1['교통량']==0) & (df1['시군구']=='서초구')])"
   ]
  },
  {
   "cell_type": "code",
   "execution_count": 41,
   "id": "b2a20fd6-0493-4e72-80aa-e472b6a5073c",
   "metadata": {},
   "outputs": [
    {
     "name": "stdout",
     "output_type": "stream",
     "text": [
      "Empty DataFrame\n",
      "Columns: [교량명, 시설물종별등급구분, 시도, 시군구, 교량연장, 교량폭, 차로수, 상부구조형식, 최종안전점검결과, 설계활하중, 준공후경과년수, 경간수, 최대경간장, 교통량]\n",
      "Index: []\n",
      "Empty DataFrame\n",
      "Columns: [교량명, 시설물종별등급구분, 시도, 시군구, 교량연장, 교량폭, 차로수, 상부구조형식, 최종안전점검결과, 설계활하중, 준공후경과년수, 경간수, 최대경간장, 교통량]\n",
      "Index: []\n"
     ]
    }
   ],
   "source": [
    "# 강남구\n",
    "df1['교통량']= np.where((df1['교통량'].isna()) & (df1['시군구']=='강남구'), 35000 , df1['교통량'])\n",
    "df1['교통량']= np.where((df1['교통량']==0) & (df1['시군구']=='강남구'), 35000 , df1['교통량'])\n",
    "print(df1.loc[(df1['교통량'].isna()) & (df1['시군구']=='강남구')])\n",
    "print(df1.loc[(df1['교통량']==0) & (df1['시군구']=='강남구')])"
   ]
  },
  {
   "cell_type": "code",
   "execution_count": 42,
   "id": "28165f5a-c31b-4c0a-935c-76b3034889d6",
   "metadata": {},
   "outputs": [
    {
     "name": "stdout",
     "output_type": "stream",
     "text": [
      "Empty DataFrame\n",
      "Columns: [교량명, 시설물종별등급구분, 시도, 시군구, 교량연장, 교량폭, 차로수, 상부구조형식, 최종안전점검결과, 설계활하중, 준공후경과년수, 경간수, 최대경간장, 교통량]\n",
      "Index: []\n",
      "Empty DataFrame\n",
      "Columns: [교량명, 시설물종별등급구분, 시도, 시군구, 교량연장, 교량폭, 차로수, 상부구조형식, 최종안전점검결과, 설계활하중, 준공후경과년수, 경간수, 최대경간장, 교통량]\n",
      "Index: []\n"
     ]
    }
   ],
   "source": [
    "# 송파구\n",
    "df1['교통량']= np.where((df1['교통량'].isna()) & (df1['시군구']=='송파구'), 30000 , df1['교통량'])\n",
    "df1['교통량']= np.where((df1['교통량']==0) & (df1['시군구']=='송파구'), 30000 , df1['교통량'])\n",
    "print(df1.loc[(df1['교통량'].isna()) & (df1['시군구']=='송파구')])\n",
    "print(df1.loc[(df1['교통량']==0) & (df1['시군구']=='송파구')])"
   ]
  },
  {
   "cell_type": "code",
   "execution_count": 43,
   "id": "9246b0af-9f37-414b-850a-98a315b83ad2",
   "metadata": {},
   "outputs": [
    {
     "name": "stdout",
     "output_type": "stream",
     "text": [
      "Empty DataFrame\n",
      "Columns: [교량명, 시설물종별등급구분, 시도, 시군구, 교량연장, 교량폭, 차로수, 상부구조형식, 최종안전점검결과, 설계활하중, 준공후경과년수, 경간수, 최대경간장, 교통량]\n",
      "Index: []\n",
      "Empty DataFrame\n",
      "Columns: [교량명, 시설물종별등급구분, 시도, 시군구, 교량연장, 교량폭, 차로수, 상부구조형식, 최종안전점검결과, 설계활하중, 준공후경과년수, 경간수, 최대경간장, 교통량]\n",
      "Index: []\n"
     ]
    }
   ],
   "source": [
    "# 강동구\n",
    "df1['교통량']= np.where((df1['교통량'].isna()) & (df1['시군구']=='강동구'), 29000 , df1['교통량'])\n",
    "df1['교통량']= np.where((df1['교통량']==0) & (df1['시군구']=='강동구'), 29000 , df1['교통량'])\n",
    "print(df1.loc[(df1['교통량'].isna()) & (df1['시군구']=='강동구')])\n",
    "print(df1.loc[(df1['교통량']==0) & (df1['시군구']=='강동구')])"
   ]
  },
  {
   "cell_type": "code",
   "execution_count": 44,
   "id": "ffa5ce2e-eed3-4ee6-9f4e-abb4c461ff22",
   "metadata": {},
   "outputs": [
    {
     "name": "stdout",
     "output_type": "stream",
     "text": [
      "Empty DataFrame\n",
      "Columns: [교량명, 시설물종별등급구분, 시도, 시군구, 교량연장, 교량폭, 차로수, 상부구조형식, 최종안전점검결과, 설계활하중, 준공후경과년수, 경간수, 최대경간장, 교통량]\n",
      "Index: []\n",
      "Empty DataFrame\n",
      "Columns: [교량명, 시설물종별등급구분, 시도, 시군구, 교량연장, 교량폭, 차로수, 상부구조형식, 최종안전점검결과, 설계활하중, 준공후경과년수, 경간수, 최대경간장, 교통량]\n",
      "Index: []\n"
     ]
    }
   ],
   "source": [
    "# 광진구\n",
    "df1['교통량']= np.where((df1['교통량'].isna()) & (df1['시군구']=='광진구'), 31000 , df1['교통량'])\n",
    "df1['교통량']= np.where((df1['교통량']==0) & (df1['시군구']=='광진구'), 31000 , df1['교통량'])\n",
    "print(df1.loc[(df1['교통량'].isna()) & (df1['시군구']=='광진구')])\n",
    "print(df1.loc[(df1['교통량']==0) & (df1['시군구']=='광진구')])"
   ]
  },
  {
   "cell_type": "code",
   "execution_count": 45,
   "id": "d7d85558-8997-4f75-b4f9-4f74744eb316",
   "metadata": {},
   "outputs": [
    {
     "name": "stdout",
     "output_type": "stream",
     "text": [
      "Empty DataFrame\n",
      "Columns: [교량명, 시설물종별등급구분, 시도, 시군구, 교량연장, 교량폭, 차로수, 상부구조형식, 최종안전점검결과, 설계활하중, 준공후경과년수, 경간수, 최대경간장, 교통량]\n",
      "Index: []\n",
      "Empty DataFrame\n",
      "Columns: [교량명, 시설물종별등급구분, 시도, 시군구, 교량연장, 교량폭, 차로수, 상부구조형식, 최종안전점검결과, 설계활하중, 준공후경과년수, 경간수, 최대경간장, 교통량]\n",
      "Index: []\n"
     ]
    }
   ],
   "source": [
    "# 마포구\n",
    "df1['교통량']= np.where((df1['교통량'].isna()) & (df1['시군구']=='마포구'), 40000 , df1['교통량'])\n",
    "df1['교통량']= np.where((df1['교통량']==0) & (df1['시군구']=='마포구'), 40000 , df1['교통량'])\n",
    "print(df1.loc[(df1['교통량'].isna()) & (df1['시군구']=='마포구')])\n",
    "print(df1.loc[(df1['교통량']==0) & (df1['시군구']=='마포구')])"
   ]
  },
  {
   "cell_type": "code",
   "execution_count": 46,
   "id": "b8e74491-453d-47dc-a059-02804d3163a9",
   "metadata": {},
   "outputs": [
    {
     "name": "stdout",
     "output_type": "stream",
     "text": [
      "Empty DataFrame\n",
      "Columns: [교량명, 시설물종별등급구분, 시도, 시군구, 교량연장, 교량폭, 차로수, 상부구조형식, 최종안전점검결과, 설계활하중, 준공후경과년수, 경간수, 최대경간장, 교통량]\n",
      "Index: []\n",
      "Empty DataFrame\n",
      "Columns: [교량명, 시설물종별등급구분, 시도, 시군구, 교량연장, 교량폭, 차로수, 상부구조형식, 최종안전점검결과, 설계활하중, 준공후경과년수, 경간수, 최대경간장, 교통량]\n",
      "Index: []\n"
     ]
    }
   ],
   "source": [
    "# 금천구\n",
    "df1['교통량']= np.where((df1['교통량'].isna()) & (df1['시군구']=='금천구'), 39000 , df1['교통량'])\n",
    "df1['교통량']= np.where((df1['교통량']==0) & (df1['시군구']=='금천구'), 39000 , df1['교통량'])\n",
    "print(df1.loc[(df1['교통량'].isna()) & (df1['시군구']=='금천구')])\n",
    "print(df1.loc[(df1['교통량']==0) & (df1['시군구']=='금천구')])"
   ]
  },
  {
   "cell_type": "code",
   "execution_count": 47,
   "id": "c95735e3-a9a3-4bd4-9e90-52e3beda0980",
   "metadata": {},
   "outputs": [
    {
     "name": "stdout",
     "output_type": "stream",
     "text": [
      "Empty DataFrame\n",
      "Columns: [교량명, 시설물종별등급구분, 시도, 시군구, 교량연장, 교량폭, 차로수, 상부구조형식, 최종안전점검결과, 설계활하중, 준공후경과년수, 경간수, 최대경간장, 교통량]\n",
      "Index: []\n",
      "Empty DataFrame\n",
      "Columns: [교량명, 시설물종별등급구분, 시도, 시군구, 교량연장, 교량폭, 차로수, 상부구조형식, 최종안전점검결과, 설계활하중, 준공후경과년수, 경간수, 최대경간장, 교통량]\n",
      "Index: []\n"
     ]
    }
   ],
   "source": [
    "# 중랑구\n",
    "df1['교통량']= np.where((df1['교통량'].isna()) & (df1['시군구']=='중랑구'), 35000 , df1['교통량'])\n",
    "df1['교통량']= np.where((df1['교통량']==0) & (df1['시군구']=='중랑구'), 35000 , df1['교통량'])\n",
    "print(df1.loc[(df1['교통량'].isna()) & (df1['시군구']=='중랑구')])\n",
    "print(df1.loc[(df1['교통량']==0) & (df1['시군구']=='중랑구')])"
   ]
  },
  {
   "cell_type": "code",
   "execution_count": 48,
   "id": "a169742f-fd0a-4a89-86b5-dd95b68a1cc5",
   "metadata": {},
   "outputs": [
    {
     "name": "stdout",
     "output_type": "stream",
     "text": [
      "Empty DataFrame\n",
      "Columns: [교량명, 시설물종별등급구분, 시도, 시군구, 교량연장, 교량폭, 차로수, 상부구조형식, 최종안전점검결과, 설계활하중, 준공후경과년수, 경간수, 최대경간장, 교통량]\n",
      "Index: []\n",
      "Empty DataFrame\n",
      "Columns: [교량명, 시설물종별등급구분, 시도, 시군구, 교량연장, 교량폭, 차로수, 상부구조형식, 최종안전점검결과, 설계활하중, 준공후경과년수, 경간수, 최대경간장, 교통량]\n",
      "Index: []\n"
     ]
    }
   ],
   "source": [
    "# 동대문구\n",
    "df1['교통량']= np.where((df1['교통량'].isna()) & (df1['시군구']=='동대문구'), 34000 , df1['교통량'])\n",
    "df1['교통량']= np.where((df1['교통량']==0) & (df1['시군구']=='동대문구'), 34000 , df1['교통량'])\n",
    "print(df1.loc[(df1['교통량'].isna()) & (df1['시군구']=='동대문구')])\n",
    "print(df1.loc[(df1['교통량']==0) & (df1['시군구']=='동대문구')])"
   ]
  },
  {
   "cell_type": "code",
   "execution_count": 49,
   "id": "fc71ee2a-8df3-4138-8b51-901d449e89f0",
   "metadata": {},
   "outputs": [
    {
     "name": "stdout",
     "output_type": "stream",
     "text": [
      "Empty DataFrame\n",
      "Columns: [교량명, 시설물종별등급구분, 시도, 시군구, 교량연장, 교량폭, 차로수, 상부구조형식, 최종안전점검결과, 설계활하중, 준공후경과년수, 경간수, 최대경간장, 교통량]\n",
      "Index: []\n",
      "Empty DataFrame\n",
      "Columns: [교량명, 시설물종별등급구분, 시도, 시군구, 교량연장, 교량폭, 차로수, 상부구조형식, 최종안전점검결과, 설계활하중, 준공후경과년수, 경간수, 최대경간장, 교통량]\n",
      "Index: []\n"
     ]
    }
   ],
   "source": [
    "# 노원구\n",
    "df1['교통량']= np.where((df1['교통량'].isna()) & (df1['시군구']=='노원구'), 25000 , df1['교통량'])\n",
    "df1['교통량']= np.where((df1['교통량']==0) & (df1['시군구']=='노원구'), 25000 , df1['교통량'])\n",
    "print(df1.loc[(df1['교통량'].isna()) & (df1['시군구']=='노원구')])\n",
    "print(df1.loc[(df1['교통량']==0) & (df1['시군구']=='노원구')])"
   ]
  },
  {
   "cell_type": "code",
   "execution_count": 50,
   "id": "9bb7cf21-f0e4-406e-a522-61b192d94930",
   "metadata": {},
   "outputs": [
    {
     "name": "stdout",
     "output_type": "stream",
     "text": [
      "Empty DataFrame\n",
      "Columns: [교량명, 시설물종별등급구분, 시도, 시군구, 교량연장, 교량폭, 차로수, 상부구조형식, 최종안전점검결과, 설계활하중, 준공후경과년수, 경간수, 최대경간장, 교통량]\n",
      "Index: []\n",
      "Empty DataFrame\n",
      "Columns: [교량명, 시설물종별등급구분, 시도, 시군구, 교량연장, 교량폭, 차로수, 상부구조형식, 최종안전점검결과, 설계활하중, 준공후경과년수, 경간수, 최대경간장, 교통량]\n",
      "Index: []\n"
     ]
    }
   ],
   "source": [
    "# 성동구\n",
    "df1['교통량']= np.where((df1['교통량'].isna()) & (df1['시군구']=='성동구'), 35000 , df1['교통량'])\n",
    "df1['교통량']= np.where((df1['교통량']==0) & (df1['시군구']=='성동구'), 35000 , df1['교통량'])\n",
    "print(df1.loc[(df1['교통량'].isna()) & (df1['시군구']=='성동구')])\n",
    "print(df1.loc[(df1['교통량']==0) & (df1['시군구']=='성동구')])"
   ]
  },
  {
   "cell_type": "code",
   "execution_count": 51,
   "id": "04b89375-74a3-4dfe-bcd6-5a9e5c5fe13f",
   "metadata": {},
   "outputs": [
    {
     "name": "stdout",
     "output_type": "stream",
     "text": [
      "Empty DataFrame\n",
      "Columns: [교량명, 시설물종별등급구분, 시도, 시군구, 교량연장, 교량폭, 차로수, 상부구조형식, 최종안전점검결과, 설계활하중, 준공후경과년수, 경간수, 최대경간장, 교통량]\n",
      "Index: []\n",
      "Empty DataFrame\n",
      "Columns: [교량명, 시설물종별등급구분, 시도, 시군구, 교량연장, 교량폭, 차로수, 상부구조형식, 최종안전점검결과, 설계활하중, 준공후경과년수, 경간수, 최대경간장, 교통량]\n",
      "Index: []\n"
     ]
    }
   ],
   "source": [
    "# 영등포구\n",
    "df1['교통량']= np.where((df1['교통량'].isna()) & (df1['시군구']=='영등포구'), 39000 , df1['교통량'])\n",
    "df1['교통량']= np.where((df1['교통량']==0) & (df1['시군구']=='영등포구'), 39000 , df1['교통량'])\n",
    "print(df1.loc[(df1['교통량'].isna()) & (df1['시군구']=='영등포구')])\n",
    "print(df1.loc[(df1['교통량']==0) & (df1['시군구']=='영등포구')])"
   ]
  },
  {
   "cell_type": "code",
   "execution_count": 52,
   "id": "aad874f6-6c0c-44dc-9641-ba5394ea66b6",
   "metadata": {},
   "outputs": [
    {
     "name": "stdout",
     "output_type": "stream",
     "text": [
      "Empty DataFrame\n",
      "Columns: [교량명, 시설물종별등급구분, 시도, 시군구, 교량연장, 교량폭, 차로수, 상부구조형식, 최종안전점검결과, 설계활하중, 준공후경과년수, 경간수, 최대경간장, 교통량]\n",
      "Index: []\n",
      "Empty DataFrame\n",
      "Columns: [교량명, 시설물종별등급구분, 시도, 시군구, 교량연장, 교량폭, 차로수, 상부구조형식, 최종안전점검결과, 설계활하중, 준공후경과년수, 경간수, 최대경간장, 교통량]\n",
      "Index: []\n"
     ]
    }
   ],
   "source": [
    "# 용산구\n",
    "df1['교통량']= np.where((df1['교통량'].isna()) & (df1['시군구']=='용산구'), 43000 , df1['교통량'])\n",
    "df1['교통량']= np.where((df1['교통량']==0) & (df1['시군구']=='용산구'), 43000 , df1['교통량'])\n",
    "print(df1.loc[(df1['교통량'].isna()) & (df1['시군구']=='용산구')])\n",
    "print(df1.loc[(df1['교통량']==0) & (df1['시군구']=='용산구')])"
   ]
  },
  {
   "cell_type": "markdown",
   "id": "e628f28f-1dac-4389-be14-f71c31258834",
   "metadata": {},
   "source": [
    "## 교통량 결측 지역 2. 경기도\n",
    "### 경기도 결측치 처리 방식 \n",
    "1. 결측치 확인 : 시설물 등급 중 경기도, 기타 항목인 교량에서 결측치 발생\n",
    "2. 결측치 처리 : (시설물 등급 구분=기타) 논밭에 있는 교량 같은 작은 교량 존재(작은규모), 이외 다리는 경기도 평균값 처리"
   ]
  },
  {
   "cell_type": "code",
   "execution_count": 53,
   "id": "d8f37512-f83f-4086-8508-3c3db4416c31",
   "metadata": {},
   "outputs": [
    {
     "name": "stdout",
     "output_type": "stream",
     "text": [
      "Empty DataFrame\n",
      "Columns: [교량명, 시설물종별등급구분, 시도, 시군구, 교량연장, 교량폭, 차로수, 상부구조형식, 최종안전점검결과, 설계활하중, 준공후경과년수, 경간수, 최대경간장, 교통량]\n",
      "Index: []\n",
      "Empty DataFrame\n",
      "Columns: [교량명, 시설물종별등급구분, 시도, 시군구, 교량연장, 교량폭, 차로수, 상부구조형식, 최종안전점검결과, 설계활하중, 준공후경과년수, 경간수, 최대경간장, 교통량]\n",
      "Index: []\n"
     ]
    }
   ],
   "source": [
    "df1['교통량']= np.where((df1['교통량'].isna()) & (df1['시도']=='경기도') & (df1['시설물종별등급구분']=='기타'), 5000 , df1['교통량'])\n",
    "df1['교통량']= np.where((df1['교통량']==0) & (df1['시도']=='경기도') & (df1['시설물종별등급구분']=='기타'), 5000 , df1['교통량'])\n",
    "print(df1.loc[(df1['교통량'].isna()) & (df1['시도']=='경기도') & (df1['시설물종별등급구분']=='기타')])\n",
    "print(df1.loc[(df1['교통량']==0) & (df1['시도']=='경기도') & (df1['시설물종별등급구분']=='기타')])"
   ]
  },
  {
   "cell_type": "code",
   "execution_count": 54,
   "id": "dbafc4f2-2534-43b6-85de-bc88dc4620d0",
   "metadata": {},
   "outputs": [
    {
     "name": "stdout",
     "output_type": "stream",
     "text": [
      "Empty DataFrame\n",
      "Columns: [교량명, 시설물종별등급구분, 시도, 시군구, 교량연장, 교량폭, 차로수, 상부구조형식, 최종안전점검결과, 설계활하중, 준공후경과년수, 경간수, 최대경간장, 교통량]\n",
      "Index: []\n",
      "Empty DataFrame\n",
      "Columns: [교량명, 시설물종별등급구분, 시도, 시군구, 교량연장, 교량폭, 차로수, 상부구조형식, 최종안전점검결과, 설계활하중, 준공후경과년수, 경간수, 최대경간장, 교통량]\n",
      "Index: []\n"
     ]
    }
   ],
   "source": [
    "df1['교통량']= np.where((df1['교통량'].isna()) & (df1['시도']=='경기도'), 36000 , df1['교통량'])\n",
    "df1['교통량']= np.where((df1['교통량']==0) & (df1['시도']=='경기도'), 36000 , df1['교통량'])\n",
    "print(df1.loc[(df1['교통량'].isna()) & (df1['시도']=='경기도')])\n",
    "print(df1.loc[(df1['교통량']==0) & (df1['시도']=='경기도')])"
   ]
  },
  {
   "cell_type": "code",
   "execution_count": 55,
   "id": "2b8de860-87cc-445e-bbaf-fea9d3b65891",
   "metadata": {},
   "outputs": [
    {
     "data": {
      "text/plain": [
       "0"
      ]
     },
     "execution_count": 55,
     "metadata": {},
     "output_type": "execute_result"
    }
   ],
   "source": [
    "df1['교통량'].isna().sum()"
   ]
  },
  {
   "cell_type": "code",
   "execution_count": 56,
   "id": "53120150-00bd-4c70-b26a-1621ab38977a",
   "metadata": {},
   "outputs": [
    {
     "data": {
      "text/plain": [
       "0"
      ]
     },
     "execution_count": 56,
     "metadata": {},
     "output_type": "execute_result"
    }
   ],
   "source": [
    "df1['교통량'].isin([0]).sum()"
   ]
  },
  {
   "cell_type": "code",
   "execution_count": 58,
   "id": "6208904a-67c5-4c7c-8e25-08bd43bc57b8",
   "metadata": {},
   "outputs": [],
   "source": [
    "df1.to_csv('KOR_bridge2.csv', encoding='utf-8-sig', index=False)"
   ]
  },
  {
   "cell_type": "code",
   "execution_count": null,
   "id": "506e06bf-7242-4aa3-b27b-8494d699b576",
   "metadata": {},
   "outputs": [],
   "source": []
  }
 ],
 "metadata": {
  "kernelspec": {
   "display_name": "Python 3 (ipykernel)",
   "language": "python",
   "name": "python3"
  },
  "language_info": {
   "codemirror_mode": {
    "name": "ipython",
    "version": 3
   },
   "file_extension": ".py",
   "mimetype": "text/x-python",
   "name": "python",
   "nbconvert_exporter": "python",
   "pygments_lexer": "ipython3",
   "version": "3.11.7"
  }
 },
 "nbformat": 4,
 "nbformat_minor": 5
}
